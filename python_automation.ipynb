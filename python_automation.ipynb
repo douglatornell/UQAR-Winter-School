{
 "cells": [
  {
   "cell_type": "markdown",
   "metadata": {},
   "source": [
    "# Python for Code Automation\n",
    "\n",
    "A brief introduction to some features of Python\n",
    "and its standard library that are useful for\n",
    "writing code automation scripts."
   ]
  },
  {
   "cell_type": "markdown",
   "metadata": {},
   "source": [
    "## Boilerplate for a Python Module to Run from the Command-line\n",
    "\n",
    "Store your script in a `.py` file with a descriptive name,\n",
    "like, `move_ariane_results.py`."
   ]
  },
  {
   "cell_type": "code",
   "execution_count": 3,
   "metadata": {
    "collapsed": false
   },
   "outputs": [],
   "source": [
    "\"\"\"Module docstring\n",
    "\n",
    "Replace this with a blurb that describes what your script does.\n",
    "\"\"\"\n",
    "\n",
    "def main():\n",
    "    pass\n",
    "\n",
    "\n",
    "# When this module is run from the command-line, like:\n",
    "#   python process_ariane_results.py\n",
    "# execute the main() function.\n",
    "if __name__ == '__main__':\n",
    "    main()"
   ]
  },
  {
   "cell_type": "markdown",
   "metadata": {},
   "source": [
    "## Handling Command-line Arguments\n",
    "\n",
    "There are lots of packages for doing this.\n",
    "Here we're going to use `argparse` from the standard library.\n",
    "\n",
    "* Documentation: https://docs.python.org/3/library/argparse.html#module-argparse\n",
    "* Tutorial: https://docs.python.org/3/howto/argparse.html#id1\n",
    "* Notebook by Kang Wang from UBC EOAS \"Software Workout\": http://nbviewer.jupyter.org/github/bmooremaley/software-workouts/blob/master/tutorials/argparse.ipynb\n",
    "\n",
    "Add a minimal command-line parser function to the module.\n",
    "This command-line parser will simply tell us how to use the module.\n",
    "(The boilerplate from above has been omitted for brevity.)"
   ]
  },
  {
   "cell_type": "code",
   "execution_count": 4,
   "metadata": {
    "collapsed": true
   },
   "outputs": [],
   "source": [
    "import argparse\n",
    "\n",
    "\n",
    "def main():\n",
    "    args = cmdline_parser()\n",
    "    \n",
    "    \n",
    "def cmdline_parser():\n",
    "    parser = argparse.ArgumentParser(\n",
    "        description='A description of the script for the help display'\n",
    "    )\n",
    "    args = parser.parse_args()\n",
    "    return args"
   ]
  },
  {
   "cell_type": "code",
   "execution_count": 6,
   "metadata": {
    "collapsed": false
   },
   "outputs": [
    {
     "name": "stdout",
     "output_type": "stream",
     "text": [
      "usage: argparser1.py [-h] run_date\r\n",
      "\r\n",
      "Description of script for help display\r\n",
      "\r\n",
      "positional arguments:\r\n",
      "  run_date    run date to process results from\r\n",
      "\r\n",
      "optional arguments:\r\n",
      "  -h, --help  show this help message and exit\r\n"
     ]
    }
   ],
   "source": [
    "!python argparser1.py -h"
   ]
  },
  {
   "cell_type": "markdown",
   "metadata": {},
   "source": [
    "Add some code to accept and display a `run_date` argument value:"
   ]
  },
  {
   "cell_type": "code",
   "execution_count": 5,
   "metadata": {
    "collapsed": true
   },
   "outputs": [],
   "source": [
    "import argparse\n",
    "\n",
    "\n",
    "def main():\n",
    "    args = cmdline_parser()\n",
    "    print('run_date = ', args.run_date)\n",
    "    \n",
    "    \n",
    "def cmdline_parser():\n",
    "    parser = argparse.ArgumentParser(\n",
    "        description='A description of the script for the help display'\n",
    "    )\n",
    "    parser.add_argument(\n",
    "        'run_date',\n",
    "        help='run date to process results from'\n",
    "    )\n",
    "    args = parser.parse_args()\n",
    "    return args"
   ]
  },
  {
   "cell_type": "code",
   "execution_count": 13,
   "metadata": {
    "collapsed": false
   },
   "outputs": [
    {
     "name": "stdout",
     "output_type": "stream",
     "text": [
      "usage: argparser_run_date.py [-h] run_date\r\n",
      "\r\n",
      "Description of script for help display\r\n",
      "\r\n",
      "positional arguments:\r\n",
      "  run_date    run date to process results from\r\n",
      "\r\n",
      "optional arguments:\r\n",
      "  -h, --help  show this help message and exit\r\n"
     ]
    }
   ],
   "source": [
    "!python argparser_run_date.py -h"
   ]
  },
  {
   "cell_type": "code",
   "execution_count": 14,
   "metadata": {
    "collapsed": false
   },
   "outputs": [
    {
     "name": "stdout",
     "output_type": "stream",
     "text": [
      "usage: argparser_run_date.py [-h] run_date\r\n",
      "argparser_run_date.py: error: the following arguments are required: run_date\r\n"
     ]
    }
   ],
   "source": [
    "!python argparser_run_date.py"
   ]
  },
  {
   "cell_type": "code",
   "execution_count": 15,
   "metadata": {
    "collapsed": false
   },
   "outputs": [
    {
     "name": "stdout",
     "output_type": "stream",
     "text": [
      "run_date =  2014-06-17\r\n"
     ]
    }
   ],
   "source": [
    "!python argparser_run_date.py 2014-06-17"
   ]
  },
  {
   "cell_type": "markdown",
   "metadata": {},
   "source": [
    "## Working with Dates and Times\n",
    "\n",
    "Again,\n",
    "there are several packages for working with dates and times.\n",
    "We're going to use `datetime` from the standard library:\n",
    "\n",
    "* Documentation: https://docs.python.org/3/library/datetime.html#module-datetime\n",
    "* Notebook by Ben Moore-Malley from UBC EOAS \"Software Workout\": http://nbviewer.jupyter.org/urls/www.eoas.ubc.ca/~bmoorema/datetime_workout.ipynb"
   ]
  },
  {
   "cell_type": "markdown",
   "metadata": {},
   "source": [
    "Convert a string into a `datetime` object when we know the format:"
   ]
  },
  {
   "cell_type": "code",
   "execution_count": 18,
   "metadata": {
    "collapsed": false
   },
   "outputs": [
    {
     "name": "stdout",
     "output_type": "stream",
     "text": [
      "2017-03-06 00:00:00\n"
     ]
    }
   ],
   "source": [
    "from datetime import datetime\n",
    "\n",
    "date_time = datetime.strptime('2017-03-06', '%Y-%m-%d')\n",
    "print(date_time)"
   ]
  },
  {
   "cell_type": "markdown",
   "metadata": {},
   "source": [
    "Get just the date portion of a `datetime` object:"
   ]
  },
  {
   "cell_type": "code",
   "execution_count": 20,
   "metadata": {
    "collapsed": false
   },
   "outputs": [
    {
     "name": "stdout",
     "output_type": "stream",
     "text": [
      "2017-03-06\n"
     ]
    }
   ],
   "source": [
    "print(date_time.date())"
   ]
  },
  {
   "cell_type": "markdown",
   "metadata": {},
   "source": [
    "Convert a `datetime` object to a string with a desired format:"
   ]
  },
  {
   "cell_type": "code",
   "execution_count": 21,
   "metadata": {
    "collapsed": false
   },
   "outputs": [
    {
     "name": "stdout",
     "output_type": "stream",
     "text": [
      "06Mar17\n"
     ]
    }
   ],
   "source": [
    "print(date_time.strftime('%d%b%y'))"
   ]
  },
  {
   "cell_type": "markdown",
   "metadata": {},
   "source": [
    "## Working with Files and Directories\n",
    "\n",
    "The Files and Directories part of the standard library Operating Systems Interfaces module, `os`:\n",
    "\n",
    "* Documentation: https://docs.python.org/3/library/os.html#files-and-directories\n",
    "\n",
    "The standard library High-level File Operations module, `shutil`:\n",
    "\n",
    "* Documentation: https://docs.python.org/3/library/shutil.html\n",
    "\n",
    "The Common Pathname Manipulations part of the standard library Operating Systems Interfaces module, `os.path`:\n",
    "\n",
    "* DocumentationL https://docs.python.org/3/library/os.path.html"
   ]
  },
  {
   "cell_type": "markdown",
   "metadata": {},
   "source": [
    "Creating directories:\n",
    "\n",
    "* `os.mkdir()` and `os.mkdirs()`\n",
    "\n",
    "Renaming files or directories:\n",
    "\n",
    "* `os.rename()` and `os.renames()`\n",
    "\n",
    "Copying files:\n",
    "\n",
    "* `shutil.copy()` and `shutil.copy2()`\n",
    "\n",
    "Moving files or directories:\n",
    "\n",
    "* `shutil.move()`\n",
    "\n",
    "Splitting a file name in to its name and extension parts:\n",
    "\n",
    "* `fname, ext = os.path.splitext(path)`"
   ]
  },
  {
   "cell_type": "code",
   "execution_count": null,
   "metadata": {
    "collapsed": true
   },
   "outputs": [],
   "source": []
  }
 ],
 "metadata": {
  "kernelspec": {
   "display_name": "Python 3",
   "language": "python",
   "name": "python3"
  },
  "language_info": {
   "codemirror_mode": {
    "name": "ipython",
    "version": 3
   },
   "file_extension": ".py",
   "mimetype": "text/x-python",
   "name": "python",
   "nbconvert_exporter": "python",
   "pygments_lexer": "ipython3",
   "version": "3.6.0"
  },
  "toc": {
   "colors": {
    "hover_highlight": "#DAA520",
    "running_highlight": "#FF0000",
    "selected_highlight": "#FFD700"
   },
   "moveMenuLeft": true,
   "nav_menu": {
    "height": "121px",
    "width": "252px"
   },
   "navigate_menu": true,
   "number_sections": false,
   "sideBar": true,
   "threshold": 4,
   "toc_cell": false,
   "toc_section_display": "block",
   "toc_window_display": false
  }
 },
 "nbformat": 4,
 "nbformat_minor": 2
}
